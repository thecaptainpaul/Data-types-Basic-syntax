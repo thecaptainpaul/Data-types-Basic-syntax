{
 "cells": [
  {
   "cell_type": "markdown",
   "id": "815bad77",
   "metadata": {},
   "source": [
    "# ASSIGNMENT"
   ]
  },
  {
   "cell_type": "markdown",
   "id": "cfab8b83",
   "metadata": {},
   "source": [
    "  1. Define each data type, and give an example."
   ]
  },
  {
   "cell_type": "markdown",
   "id": "a3ed2cbe",
   "metadata": {},
   "source": [
    "### Integer"
   ]
  },
  {
   "cell_type": "markdown",
   "id": "aa501a21",
   "metadata": {},
   "source": [
    "These are whole numbers either positive or negative\n",
    "\n",
    "*Examples*\n",
    "\n",
    "* 1\n",
    "* -200"
   ]
  },
  {
   "cell_type": "markdown",
   "id": "caa52d31",
   "metadata": {},
   "source": [
    "### Float"
   ]
  },
  {
   "cell_type": "markdown",
   "id": "ddd4a7ac",
   "metadata": {},
   "source": [
    "These are numbers in decimals, either positive or negative\n",
    "\n",
    "*Example*\n",
    "\n",
    "* 3.5\n",
    "* -80.7"
   ]
  },
  {
   "cell_type": "markdown",
   "id": "9437d255",
   "metadata": {},
   "source": [
    "### Strings"
   ]
  },
  {
   "cell_type": "markdown",
   "id": "603e6bd7",
   "metadata": {},
   "source": [
    "These are combination of values and characters either alphabetical or numerical , this is easier indicated by wrapping in a quote either single or double qoute \n",
    "\n",
    "*Examples*\n",
    "\n",
    "* 'man'\n",
    "* 'goat12'"
   ]
  },
  {
   "cell_type": "markdown",
   "id": "831de419",
   "metadata": {},
   "source": [
    "  2. What data type is each value? Use the type function to verify. "
   ]
  },
  {
   "cell_type": "markdown",
   "id": "dcab80f9",
   "metadata": {},
   "source": [
    "*a. 3   b. 4.5    c. 6.0\n",
    "   d. \"hello\" e.   \"3.14159\"    f. math.pi*"
   ]
  },
  {
   "cell_type": "code",
   "execution_count": 8,
   "id": "58dc6c52",
   "metadata": {},
   "outputs": [
    {
     "data": {
      "text/plain": [
       "int"
      ]
     },
     "execution_count": 8,
     "metadata": {},
     "output_type": "execute_result"
    }
   ],
   "source": [
    "type(3)"
   ]
  },
  {
   "cell_type": "code",
   "execution_count": 9,
   "id": "09c191d5",
   "metadata": {},
   "outputs": [
    {
     "data": {
      "text/plain": [
       "float"
      ]
     },
     "execution_count": 9,
     "metadata": {},
     "output_type": "execute_result"
    }
   ],
   "source": [
    "type(4.5)"
   ]
  },
  {
   "cell_type": "code",
   "execution_count": 10,
   "id": "2cf8ca86",
   "metadata": {},
   "outputs": [
    {
     "data": {
      "text/plain": [
       "float"
      ]
     },
     "execution_count": 10,
     "metadata": {},
     "output_type": "execute_result"
    }
   ],
   "source": [
    "type (6.0)"
   ]
  },
  {
   "cell_type": "code",
   "execution_count": 11,
   "id": "a3735bc5",
   "metadata": {},
   "outputs": [
    {
     "data": {
      "text/plain": [
       "str"
      ]
     },
     "execution_count": 11,
     "metadata": {},
     "output_type": "execute_result"
    }
   ],
   "source": [
    "type(\"hello\")"
   ]
  },
  {
   "cell_type": "code",
   "execution_count": 12,
   "id": "a8343b46",
   "metadata": {},
   "outputs": [
    {
     "data": {
      "text/plain": [
       "str"
      ]
     },
     "execution_count": 12,
     "metadata": {},
     "output_type": "execute_result"
    }
   ],
   "source": [
    "type(\"3.14159\")"
   ]
  },
  {
   "cell_type": "code",
   "execution_count": 14,
   "id": "c2771178",
   "metadata": {},
   "outputs": [
    {
     "data": {
      "text/plain": [
       "str"
      ]
     },
     "execution_count": 14,
     "metadata": {},
     "output_type": "execute_result"
    }
   ],
   "source": [
    "type('math.pi')"
   ]
  },
  {
   "cell_type": "markdown",
   "id": "21356d65",
   "metadata": {},
   "source": [
    "  3. Use the type function to identify the data type of each result. Are there any that do not work?"
   ]
  },
  {
   "cell_type": "code",
   "execution_count": 15,
   "id": "46445a02",
   "metadata": {},
   "outputs": [
    {
     "data": {
      "text/plain": [
       "10"
      ]
     },
     "execution_count": 15,
     "metadata": {},
     "output_type": "execute_result"
    }
   ],
   "source": [
    "3+7"
   ]
  },
  {
   "cell_type": "code",
   "execution_count": 16,
   "id": "53fba0af",
   "metadata": {},
   "outputs": [],
   "source": [
    "result = 10"
   ]
  },
  {
   "cell_type": "code",
   "execution_count": 17,
   "id": "4ceb2031",
   "metadata": {},
   "outputs": [
    {
     "data": {
      "text/plain": [
       "int"
      ]
     },
     "execution_count": 17,
     "metadata": {},
     "output_type": "execute_result"
    }
   ],
   "source": [
    "type (result)"
   ]
  },
  {
   "cell_type": "code",
   "execution_count": 18,
   "id": "d4fc4217",
   "metadata": {},
   "outputs": [
    {
     "data": {
      "text/plain": [
       "11.0"
      ]
     },
     "execution_count": 18,
     "metadata": {},
     "output_type": "execute_result"
    }
   ],
   "source": [
    "5+6.0"
   ]
  },
  {
   "cell_type": "code",
   "execution_count": 19,
   "id": "7ecdcffc",
   "metadata": {},
   "outputs": [],
   "source": [
    "result = 11.0"
   ]
  },
  {
   "cell_type": "code",
   "execution_count": 20,
   "id": "e874608a",
   "metadata": {},
   "outputs": [
    {
     "data": {
      "text/plain": [
       "float"
      ]
     },
     "execution_count": 20,
     "metadata": {},
     "output_type": "execute_result"
    }
   ],
   "source": [
    "type(11.0)"
   ]
  },
  {
   "cell_type": "code",
   "execution_count": 21,
   "id": "c29736f1",
   "metadata": {},
   "outputs": [
    {
     "data": {
      "text/plain": [
       "2.0"
      ]
     },
     "execution_count": 21,
     "metadata": {},
     "output_type": "execute_result"
    }
   ],
   "source": [
    "6/3.0"
   ]
  },
  {
   "cell_type": "code",
   "execution_count": 22,
   "id": "adf74bbd",
   "metadata": {},
   "outputs": [],
   "source": [
    "result = 2.0"
   ]
  },
  {
   "cell_type": "code",
   "execution_count": 23,
   "id": "2c4688d9",
   "metadata": {},
   "outputs": [
    {
     "data": {
      "text/plain": [
       "float"
      ]
     },
     "execution_count": 23,
     "metadata": {},
     "output_type": "execute_result"
    }
   ],
   "source": [
    "type(result)"
   ]
  },
  {
   "cell_type": "code",
   "execution_count": 24,
   "id": "f2503b5b",
   "metadata": {},
   "outputs": [
    {
     "data": {
      "text/plain": [
       "2.0"
      ]
     },
     "execution_count": 24,
     "metadata": {},
     "output_type": "execute_result"
    }
   ],
   "source": [
    "6.0//3.0"
   ]
  },
  {
   "cell_type": "code",
   "execution_count": 25,
   "id": "1cf42df6",
   "metadata": {},
   "outputs": [],
   "source": [
    "result = 2.0"
   ]
  },
  {
   "cell_type": "code",
   "execution_count": 26,
   "id": "7a63dd2c",
   "metadata": {},
   "outputs": [
    {
     "data": {
      "text/plain": [
       "float"
      ]
     },
     "execution_count": 26,
     "metadata": {},
     "output_type": "execute_result"
    }
   ],
   "source": [
    "type(result)"
   ]
  },
  {
   "cell_type": "code",
   "execution_count": 27,
   "id": "2d428faf",
   "metadata": {},
   "outputs": [
    {
     "data": {
      "text/plain": [
       "'Python'"
      ]
     },
     "execution_count": 27,
     "metadata": {},
     "output_type": "execute_result"
    }
   ],
   "source": [
    "\"Py\"+\"thon\""
   ]
  },
  {
   "cell_type": "code",
   "execution_count": 28,
   "id": "b8a299e1",
   "metadata": {},
   "outputs": [],
   "source": [
    "result = 'Python'"
   ]
  },
  {
   "cell_type": "code",
   "execution_count": 29,
   "id": "30ccd83a",
   "metadata": {},
   "outputs": [
    {
     "data": {
      "text/plain": [
       "str"
      ]
     },
     "execution_count": 29,
     "metadata": {},
     "output_type": "execute_result"
    }
   ],
   "source": [
    "type(result)"
   ]
  },
  {
   "cell_type": "markdown",
   "id": "72e98276",
   "metadata": {},
   "source": [
    "  4. Which variable names are acceptable, explain why."
   ]
  },
  {
   "cell_type": "markdown",
   "id": "d8ac0308",
   "metadata": {},
   "source": [
    "num - Acceptable , because variables is made up of letters and digits "
   ]
  },
  {
   "cell_type": "markdown",
   "id": "2b7b45e9",
   "metadata": {},
   "source": [
    "AGE - Acceptable , because variables is made up of letters and digits"
   ]
  },
  {
   "cell_type": "markdown",
   "id": "903c2c88",
   "metadata": {},
   "source": [
    "FiRsTnAmE - Acceptable , because variables is made up of letters or digits , either upper or lower case"
   ]
  },
  {
   "cell_type": "markdown",
   "id": "ee6eb112",
   "metadata": {},
   "source": [
    "_count - Acceptable , because variables is made up of letters , digits and underscore it is spaced by an underscore"
   ]
  },
  {
   "cell_type": "markdown",
   "id": "b92ae6ad",
   "metadata": {},
   "source": [
    "2nd_card - not acceptable , because variables can not start with a digit , either upper or lower case"
   ]
  },
  {
   "cell_type": "markdown",
   "id": "80d5c13c",
   "metadata": {},
   "source": [
    "card_2 - Acceptable , because variables is made up of letters or digits it is spaced by an underscore"
   ]
  },
  {
   "cell_type": "markdown",
   "id": "ede861e7",
   "metadata": {},
   "source": [
    "card 2 - not acceptable because a variable can not have a space in between"
   ]
  },
  {
   "cell_type": "markdown",
   "id": "c2953b3a",
   "metadata": {},
   "source": [
    "lambda - not acceptable because this is a reversed keyword in python"
   ]
  },
  {
   "cell_type": "markdown",
   "id": "5cf236e2",
   "metadata": {},
   "source": [
    "  5. Choose a meaningful variable name to represent each scenario."
   ]
  },
  {
   "cell_type": "markdown",
   "id": "c84ad242",
   "metadata": {},
   "source": [
    "player_dealt_cards"
   ]
  },
  {
   "cell_type": "markdown",
   "id": "d9fe69ae",
   "metadata": {},
   "source": [
    "monthly_salary"
   ]
  },
  {
   "cell_type": "markdown",
   "id": "ef35383b",
   "metadata": {},
   "source": [
    "dice_value"
   ]
  },
  {
   "cell_type": "markdown",
   "id": "d46bac3d",
   "metadata": {},
   "source": [
    "summer_temperature"
   ]
  },
  {
   "cell_type": "markdown",
   "id": "d7c9ed6b",
   "metadata": {},
   "source": [
    "  6. Assign the values x=\"house\", y=\"boat\" and z=\"ha\". What is the result of each statement? Which\n",
    "do not work, and why?"
   ]
  },
  {
   "cell_type": "code",
   "execution_count": 30,
   "id": "c5e67e03",
   "metadata": {},
   "outputs": [
    {
     "ename": "TypeError",
     "evalue": "can only concatenate str (not \"int\") to str",
     "output_type": "error",
     "traceback": [
      "\u001b[0;31m---------------------------------------------------------------------------\u001b[0m",
      "\u001b[0;31mTypeError\u001b[0m                                 Traceback (most recent call last)",
      "\u001b[0;32m/var/folders/dz/jcfyc4t52wv8jgl48rmpsp880000gp/T/ipykernel_3327/3561235452.py\u001b[0m in \u001b[0;36m<module>\u001b[0;34m\u001b[0m\n\u001b[0;32m----> 1\u001b[0;31m \u001b[0;34m\"High\"\u001b[0m\u001b[0;34m+\u001b[0m\u001b[0;36m5\u001b[0m\u001b[0;34m\u001b[0m\u001b[0;34m\u001b[0m\u001b[0m\n\u001b[0m",
      "\u001b[0;31mTypeError\u001b[0m: can only concatenate str (not \"int\") to str"
     ]
    }
   ],
   "source": [
    "\"High\"+5"
   ]
  },
  {
   "cell_type": "code",
   "execution_count": 33,
   "id": "618bb269",
   "metadata": {},
   "outputs": [],
   "source": [
    "x = 'house'"
   ]
  },
  {
   "cell_type": "code",
   "execution_count": 34,
   "id": "9767d6e5",
   "metadata": {},
   "outputs": [],
   "source": [
    "y = 'boat'"
   ]
  },
  {
   "cell_type": "code",
   "execution_count": 35,
   "id": "4cf7e0a0",
   "metadata": {},
   "outputs": [],
   "source": [
    "z ='ha'"
   ]
  },
  {
   "cell_type": "code",
   "execution_count": 36,
   "id": "5588363d",
   "metadata": {},
   "outputs": [
    {
     "data": {
      "text/plain": [
       "'houseboat'"
      ]
     },
     "execution_count": 36,
     "metadata": {},
     "output_type": "execute_result"
    }
   ],
   "source": [
    "x+y"
   ]
  },
  {
   "cell_type": "code",
   "execution_count": 37,
   "id": "60cca3ff",
   "metadata": {},
   "outputs": [
    {
     "data": {
      "text/plain": [
       "'boathouse'"
      ]
     },
     "execution_count": 37,
     "metadata": {},
     "output_type": "execute_result"
    }
   ],
   "source": [
    "y+x"
   ]
  },
  {
   "cell_type": "code",
   "execution_count": 38,
   "id": "f0fbb47a",
   "metadata": {},
   "outputs": [
    {
     "data": {
      "text/plain": [
       "'hahaha'"
      ]
     },
     "execution_count": 38,
     "metadata": {},
     "output_type": "execute_result"
    }
   ],
   "source": [
    "z*3"
   ]
  },
  {
   "cell_type": "code",
   "execution_count": 39,
   "id": "47c6c051",
   "metadata": {},
   "outputs": [
    {
     "ename": "TypeError",
     "evalue": "can't multiply sequence by non-int of type 'str'",
     "output_type": "error",
     "traceback": [
      "\u001b[0;31m---------------------------------------------------------------------------\u001b[0m",
      "\u001b[0;31mTypeError\u001b[0m                                 Traceback (most recent call last)",
      "\u001b[0;32m/var/folders/dz/jcfyc4t52wv8jgl48rmpsp880000gp/T/ipykernel_3327/3179617253.py\u001b[0m in \u001b[0;36m<module>\u001b[0;34m\u001b[0m\n\u001b[0;32m----> 1\u001b[0;31m \u001b[0mz\u001b[0m\u001b[0;34m*\u001b[0m\u001b[0mx\u001b[0m\u001b[0;34m\u001b[0m\u001b[0;34m\u001b[0m\u001b[0m\n\u001b[0m",
      "\u001b[0;31mTypeError\u001b[0m: can't multiply sequence by non-int of type 'str'"
     ]
    }
   ],
   "source": [
    "z*x"
   ]
  },
  {
   "cell_type": "markdown",
   "id": "4eca23d7",
   "metadata": {},
   "source": [
    "*z * x did not work because strings can not be multuplied by another strings*"
   ]
  },
  {
   "cell_type": "code",
   "execution_count": 40,
   "id": "70c2dcc3",
   "metadata": {},
   "outputs": [
    {
     "ename": "TypeError",
     "evalue": "can only concatenate str (not \"int\") to str",
     "output_type": "error",
     "traceback": [
      "\u001b[0;31m---------------------------------------------------------------------------\u001b[0m",
      "\u001b[0;31mTypeError\u001b[0m                                 Traceback (most recent call last)",
      "\u001b[0;32m/var/folders/dz/jcfyc4t52wv8jgl48rmpsp880000gp/T/ipykernel_3327/4097111698.py\u001b[0m in \u001b[0;36m<module>\u001b[0;34m\u001b[0m\n\u001b[0;32m----> 1\u001b[0;31m \u001b[0mx\u001b[0m\u001b[0;34m+\u001b[0m\u001b[0;36m2\u001b[0m\u001b[0;34m\u001b[0m\u001b[0;34m\u001b[0m\u001b[0m\n\u001b[0m",
      "\u001b[0;31mTypeError\u001b[0m: can only concatenate str (not \"int\") to str"
     ]
    }
   ],
   "source": [
    "x+2"
   ]
  },
  {
   "cell_type": "markdown",
   "id": "06d403b6",
   "metadata": {},
   "source": [
    "*x + 2 did not work because strings can not be added to an integer*"
   ]
  },
  {
   "cell_type": "code",
   "execution_count": 42,
   "id": "a0258e84",
   "metadata": {},
   "outputs": [
    {
     "data": {
      "text/plain": [
       "'boat2'"
      ]
     },
     "execution_count": 42,
     "metadata": {},
     "output_type": "execute_result"
    }
   ],
   "source": [
    "y+\"2\""
   ]
  },
  {
   "cell_type": "markdown",
   "id": "f70d2242",
   "metadata": {},
   "source": [
    "  7. Assign the values base=10 and height=5. Calculate the area of a triangle using the formula At=1/2 (b)(h) , and assign the value to the variable area. Echo this value."
   ]
  },
  {
   "cell_type": "code",
   "execution_count": 80,
   "id": "7e556016",
   "metadata": {},
   "outputs": [],
   "source": [
    "base = 10"
   ]
  },
  {
   "cell_type": "code",
   "execution_count": 81,
   "id": "d0be45b3",
   "metadata": {},
   "outputs": [],
   "source": [
    "height = 5"
   ]
  },
  {
   "cell_type": "code",
   "execution_count": 84,
   "id": "e9ab475f",
   "metadata": {},
   "outputs": [],
   "source": [
    "area = 1/2 * base * height"
   ]
  },
  {
   "cell_type": "code",
   "execution_count": 85,
   "id": "c5bd96a3",
   "metadata": {},
   "outputs": [
    {
     "data": {
      "text/plain": [
       "25.0"
      ]
     },
     "execution_count": 85,
     "metadata": {},
     "output_type": "execute_result"
    }
   ],
   "source": [
    "area"
   ]
  },
  {
   "cell_type": "markdown",
   "id": "886173f9",
   "metadata": {},
   "source": [
    "  8. Execute the following sequence of commands in the shell, then state the final value of k."
   ]
  },
  {
   "cell_type": "code",
   "execution_count": 66,
   "id": "46248931",
   "metadata": {},
   "outputs": [],
   "source": [
    "k = 7"
   ]
  },
  {
   "cell_type": "code",
   "execution_count": 67,
   "id": "397bd972",
   "metadata": {},
   "outputs": [
    {
     "data": {
      "text/plain": [
       "7"
      ]
     },
     "execution_count": 67,
     "metadata": {},
     "output_type": "execute_result"
    }
   ],
   "source": [
    "k"
   ]
  },
  {
   "cell_type": "code",
   "execution_count": 68,
   "id": "d1734bcb",
   "metadata": {},
   "outputs": [],
   "source": [
    "k += 3"
   ]
  },
  {
   "cell_type": "code",
   "execution_count": 69,
   "id": "5a392796",
   "metadata": {},
   "outputs": [
    {
     "data": {
      "text/plain": [
       "10"
      ]
     },
     "execution_count": 69,
     "metadata": {},
     "output_type": "execute_result"
    }
   ],
   "source": [
    "k"
   ]
  },
  {
   "cell_type": "code",
   "execution_count": 70,
   "id": "872a4fef",
   "metadata": {},
   "outputs": [],
   "source": [
    "k *= 2"
   ]
  },
  {
   "cell_type": "code",
   "execution_count": 71,
   "id": "519ecd40",
   "metadata": {},
   "outputs": [
    {
     "data": {
      "text/plain": [
       "20"
      ]
     },
     "execution_count": 71,
     "metadata": {},
     "output_type": "execute_result"
    }
   ],
   "source": [
    "k"
   ]
  },
  {
   "cell_type": "code",
   "execution_count": 72,
   "id": "110844c6",
   "metadata": {},
   "outputs": [],
   "source": [
    "k -= 5"
   ]
  },
  {
   "cell_type": "code",
   "execution_count": 73,
   "id": "7a7e77da",
   "metadata": {},
   "outputs": [
    {
     "data": {
      "text/plain": [
       "15"
      ]
     },
     "execution_count": 73,
     "metadata": {},
     "output_type": "execute_result"
    }
   ],
   "source": [
    "k"
   ]
  },
  {
   "cell_type": "code",
   "execution_count": 74,
   "id": "7259f82e",
   "metadata": {},
   "outputs": [],
   "source": [
    "k //= 6"
   ]
  },
  {
   "cell_type": "code",
   "execution_count": 75,
   "id": "b8dc4883",
   "metadata": {},
   "outputs": [
    {
     "data": {
      "text/plain": [
       "2"
      ]
     },
     "execution_count": 75,
     "metadata": {},
     "output_type": "execute_result"
    }
   ],
   "source": [
    "k"
   ]
  },
  {
   "cell_type": "markdown",
   "id": "906c3395",
   "metadata": {},
   "source": [
    "  9. Explain why the following run-time error occurs."
   ]
  },
  {
   "cell_type": "code",
   "execution_count": null,
   "id": "8ffa4075",
   "metadata": {},
   "outputs": [],
   "source": [
    "number = 8"
   ]
  },
  {
   "cell_type": "code",
   "execution_count": 86,
   "id": "6d416bf8",
   "metadata": {},
   "outputs": [
    {
     "ename": "NameError",
     "evalue": "name 'Number' is not defined",
     "output_type": "error",
     "traceback": [
      "\u001b[0;31m---------------------------------------------------------------------------\u001b[0m",
      "\u001b[0;31mNameError\u001b[0m                                 Traceback (most recent call last)",
      "\u001b[0;32m/var/folders/dz/jcfyc4t52wv8jgl48rmpsp880000gp/T/ipykernel_3327/2145085998.py\u001b[0m in \u001b[0;36m<module>\u001b[0;34m\u001b[0m\n\u001b[0;32m----> 1\u001b[0;31m \u001b[0mNumber\u001b[0m \u001b[0;34m+=\u001b[0m \u001b[0;36m1\u001b[0m\u001b[0;34m\u001b[0m\u001b[0;34m\u001b[0m\u001b[0m\n\u001b[0m",
      "\u001b[0;31mNameError\u001b[0m: name 'Number' is not defined"
     ]
    }
   ],
   "source": [
    "Number += 1"
   ]
  },
  {
   "cell_type": "markdown",
   "id": "612a16ae",
   "metadata": {},
   "source": [
    "This gives error beacause use python is case sensitive , and doesn't recognise \"number\" & \"Number\" as the same due to the initial capital letter"
   ]
  },
  {
   "cell_type": "markdown",
   "id": "d9e50444",
   "metadata": {},
   "source": [
    "  10. Python is a dynamically-typed language: a variable’s data type can change as necessary. Assign the value x=4, then use check its type using the type function. What data type is it? Increment x by 1, using the += operator, then check its type again. Did it change? If so, what data type is it? Increment x by 1.0, then check its type. Did it change? If so, what data type is it?"
   ]
  },
  {
   "cell_type": "code",
   "execution_count": 53,
   "id": "28335408",
   "metadata": {},
   "outputs": [],
   "source": [
    "x = 4"
   ]
  },
  {
   "cell_type": "code",
   "execution_count": 54,
   "id": "69882f50",
   "metadata": {},
   "outputs": [
    {
     "data": {
      "text/plain": [
       "int"
      ]
     },
     "execution_count": 54,
     "metadata": {},
     "output_type": "execute_result"
    }
   ],
   "source": [
    "type(x)"
   ]
  },
  {
   "cell_type": "code",
   "execution_count": 55,
   "id": "5d95705b",
   "metadata": {},
   "outputs": [],
   "source": [
    "x +=1"
   ]
  },
  {
   "cell_type": "code",
   "execution_count": 56,
   "id": "83913d8c",
   "metadata": {},
   "outputs": [
    {
     "data": {
      "text/plain": [
       "int"
      ]
     },
     "execution_count": 56,
     "metadata": {},
     "output_type": "execute_result"
    }
   ],
   "source": [
    "type(x)"
   ]
  },
  {
   "cell_type": "markdown",
   "id": "4c7a0638",
   "metadata": {},
   "source": [
    "*it's still an integer*"
   ]
  },
  {
   "cell_type": "code",
   "execution_count": 57,
   "id": "fea2a4b0",
   "metadata": {},
   "outputs": [],
   "source": [
    "x *=1.0"
   ]
  },
  {
   "cell_type": "code",
   "execution_count": 58,
   "id": "f1e6a2dc",
   "metadata": {},
   "outputs": [
    {
     "data": {
      "text/plain": [
       "5.0"
      ]
     },
     "execution_count": 58,
     "metadata": {},
     "output_type": "execute_result"
    }
   ],
   "source": [
    "x"
   ]
  },
  {
   "cell_type": "code",
   "execution_count": 59,
   "id": "e4825043",
   "metadata": {},
   "outputs": [
    {
     "data": {
      "text/plain": [
       "float"
      ]
     },
     "execution_count": 59,
     "metadata": {},
     "output_type": "execute_result"
    }
   ],
   "source": [
    "type(x)"
   ]
  },
  {
   "cell_type": "markdown",
   "id": "3c69a6fc",
   "metadata": {},
   "source": [
    "*yes it has changed due to the decimal introduced, it is now a float*"
   ]
  }
 ],
 "metadata": {
  "kernelspec": {
   "display_name": "Python 3 (ipykernel)",
   "language": "python",
   "name": "python3"
  },
  "language_info": {
   "codemirror_mode": {
    "name": "ipython",
    "version": 3
   },
   "file_extension": ".py",
   "mimetype": "text/x-python",
   "name": "python",
   "nbconvert_exporter": "python",
   "pygments_lexer": "ipython3",
   "version": "3.9.13"
  }
 },
 "nbformat": 4,
 "nbformat_minor": 5
}
